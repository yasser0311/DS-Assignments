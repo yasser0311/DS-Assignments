{
  "nbformat": 4,
  "nbformat_minor": 0,
  "metadata": {
    "colab": {
      "provenance": []
    },
    "kernelspec": {
      "name": "python3",
      "display_name": "Python 3"
    },
    "language_info": {
      "name": "python"
    }
  },
  "cells": [
    {
      "cell_type": "code",
      "execution_count": 1,
      "metadata": {
        "colab": {
          "base_uri": "https://localhost:8080/"
        },
        "id": "vHZJwvREWIWL",
        "outputId": "1c4bc139-4ff9-452d-ddf9-1115bcb3e884"
      },
      "outputs": [
        {
          "output_type": "stream",
          "name": "stdout",
          "text": [
            "Problem 1a: Coin Toss Simulation\n",
            "Experimental probability of heads: 0.5002\n",
            "Experimental probability of tails: 0.4998\n"
          ]
        },
        {
          "output_type": "execute_result",
          "data": {
            "text/plain": [
              "(0.5002, 0.4998)"
            ]
          },
          "metadata": {},
          "execution_count": 1
        }
      ],
      "source": [
        "# Import required libraries\n",
        "import random\n",
        "import numpy as np\n",
        "import matplotlib.pyplot as plt\n",
        "from scipy.stats import expon\n",
        "\n",
        "## Problem 1a: Coin Toss Simulation\n",
        "def coin_toss_simulation(trials=10000):\n",
        "    heads = 0\n",
        "    tails = 0\n",
        "\n",
        "    for _ in range(trials):\n",
        "        result = random.choice(['H', 'T'])\n",
        "        if result == 'H':\n",
        "            heads += 1\n",
        "        else:\n",
        "            tails += 1\n",
        "\n",
        "    p_heads = heads / trials\n",
        "    p_tails = tails / trials\n",
        "\n",
        "    print(f\"Experimental probability of heads: {p_heads:.4f}\")\n",
        "    print(f\"Experimental probability of tails: {p_tails:.4f}\")\n",
        "    return p_heads, p_tails\n",
        "\n",
        "# Run the simulation\n",
        "print(\"Problem 1a: Coin Toss Simulation\")\n",
        "coin_toss_simulation()"
      ]
    },
    {
      "cell_type": "markdown",
      "source": [
        "**Problem 1a Explanation: Coin Toss Simulation**  \n",
        "Simulates 10,000 coin tosses using Python's random module\n",
        "\n",
        "Counts the number of heads and tails\n",
        "\n",
        "Calculates experimental probabilities by dividing counts by total trials\n",
        "\n",
        "Shows that as trials increase, experimental probability approaches theoretical (0.5)"
      ],
      "metadata": {
        "id": "9Fyfj930W3GG"
      }
    },
    {
      "cell_type": "code",
      "source": [
        "## Problem 1b: Dice Roll Simulation (Sum of 7)\n",
        "def dice_sum_simulation(trials=10000):\n",
        "    count_7 = 0\n",
        "\n",
        "    for _ in range(trials):\n",
        "        die1 = random.randint(1, 6)\n",
        "        die2 = random.randint(1, 6)\n",
        "        if die1 + die2 == 7:\n",
        "            count_7 += 1\n",
        "\n",
        "    probability = count_7 / trials\n",
        "    print(f\"\\nProblem 1b: Probability of sum being 7: {probability:.4f}\")\n",
        "    return probability\n",
        "\n",
        "dice_sum_simulation()"
      ],
      "metadata": {
        "colab": {
          "base_uri": "https://localhost:8080/"
        },
        "id": "-rtKOFTuW2vL",
        "outputId": "71c625b4-fa6f-48c6-e430-d6ac2d38f2d0"
      },
      "execution_count": 2,
      "outputs": [
        {
          "output_type": "stream",
          "name": "stdout",
          "text": [
            "\n",
            "Problem 1b: Probability of sum being 7: 0.1663\n"
          ]
        },
        {
          "output_type": "execute_result",
          "data": {
            "text/plain": [
              "0.1663"
            ]
          },
          "metadata": {},
          "execution_count": 2
        }
      ]
    },
    {
      "cell_type": "markdown",
      "source": [
        "**Problem 1b Explanation: Dice Roll Simulation**  \n",
        "Simulates rolling two dice 10,000 times\n",
        "\n",
        "Counts how often the sum equals 7\n",
        "\n",
        "Calculates the probability by dividing count by trials\n",
        "\n",
        "Theoretical probability is 6/36 = 0.1667 (6 combinations out of 36 possible)"
      ],
      "metadata": {
        "id": "eJAm7rloXBxC"
      }
    },
    {
      "cell_type": "code",
      "source": [
        "## Problem 2: At least one six in 10 rolls\n",
        "def at_least_one_six(trials=10000):\n",
        "    successes = 0\n",
        "\n",
        "    for _ in range(trials):\n",
        "        rolls = [random.randint(1, 6) for _ in range(10)]\n",
        "        if 6 in rolls:\n",
        "            successes += 1\n",
        "\n",
        "    probability = successes / trials\n",
        "    print(f\"\\nProblem 2: Probability of at least one 6 in 10 rolls: {probability:.4f}\")\n",
        "    return probability\n",
        "\n",
        "at_least_one_six()"
      ],
      "metadata": {
        "colab": {
          "base_uri": "https://localhost:8080/"
        },
        "id": "_Fr5m2UNXCPS",
        "outputId": "1c9e722f-7068-47a9-856b-c2819ca505e4"
      },
      "execution_count": 3,
      "outputs": [
        {
          "output_type": "stream",
          "name": "stdout",
          "text": [
            "\n",
            "Problem 2: Probability of at least one 6 in 10 rolls: 0.8362\n"
          ]
        },
        {
          "output_type": "execute_result",
          "data": {
            "text/plain": [
              "0.8362"
            ]
          },
          "metadata": {},
          "execution_count": 3
        }
      ]
    },
    {
      "cell_type": "markdown",
      "source": [
        "**Problem 2 Explanation: At Least One Six**  \n",
        "Simulates rolling a die 10 times, repeated for 10,000 trials\n",
        "\n",
        "Counts trials where at least one roll was a 6\n",
        "\n",
        "Calculates probability as successful trials divided by total trials\n",
        "\n",
        "Theoretical probability is 1 - (5/6)^10 ≈ 0.8385"
      ],
      "metadata": {
        "id": "VuRw-bXfXG8L"
      }
    },
    {
      "cell_type": "code",
      "source": [
        "## Problem 3: Conditional Probability and Bayes' Theorem\n",
        "def ball_simulation(trials=1000):\n",
        "    # Initialize counts\n",
        "    red_after_blue = 0\n",
        "    blue_count = 0\n",
        "\n",
        "    previous_color = None\n",
        "\n",
        "    for _ in range(trials):\n",
        "        # Draw a ball (with replacement)\n",
        "        ball = random.choices(['R', 'G', 'B'], weights=[5, 7, 8])[0]\n",
        "\n",
        "        # Check condition: previous ball was blue\n",
        "        if previous_color == 'B':\n",
        "            blue_count += 1\n",
        "            if ball == 'R':\n",
        "                red_after_blue += 1\n",
        "\n",
        "        previous_color = ball\n",
        "\n",
        "    # Calculate conditional probability\n",
        "    if blue_count > 0:\n",
        "        p_red_given_blue = red_after_blue / blue_count\n",
        "    else:\n",
        "        p_red_given_blue = 0\n",
        "\n",
        "    # Theoretical probability using Bayes' theorem\n",
        "    # P(R|B) = P(B|R)*P(R)/P(B) but since independent, P(R|B) = P(R) = 5/20\n",
        "    theoretical_prob = 5 / 20\n",
        "\n",
        "    print(f\"\\nProblem 3a: Experimental P(Red|Blue): {p_red_given_blue:.4f}\")\n",
        "    print(f\"Theoretical P(Red|Blue): {theoretical_prob:.4f}\")\n",
        "\n",
        "    return p_red_given_blue, theoretical_prob\n",
        "\n",
        "ball_simulation()"
      ],
      "metadata": {
        "colab": {
          "base_uri": "https://localhost:8080/"
        },
        "id": "RrInka7sXHUC",
        "outputId": "21f80aef-ff18-4812-b84c-21f9cf8ec2a2"
      },
      "execution_count": 4,
      "outputs": [
        {
          "output_type": "stream",
          "name": "stdout",
          "text": [
            "\n",
            "Problem 3a: Experimental P(Red|Blue): 0.2531\n",
            "Theoretical P(Red|Blue): 0.2500\n"
          ]
        },
        {
          "output_type": "execute_result",
          "data": {
            "text/plain": [
              "(0.2531017369727047, 0.25)"
            ]
          },
          "metadata": {},
          "execution_count": 4
        }
      ]
    },
    {
      "cell_type": "markdown",
      "source": [
        "**Problem 3 Explanation: Conditional Probability**  \n",
        "Simulates drawing balls from a bag with replacement\n",
        "\n",
        "Tracks cases where a red follows a blue\n",
        "\n",
        "Calculates conditional probability P(Red|Blue)\n",
        "\n",
        "Since draws are independent, theoretical probability is just P(Red) = 5/20 = 0.25"
      ],
      "metadata": {
        "id": "HTStdrLhXQvz"
      }
    },
    {
      "cell_type": "code",
      "source": [
        "## Problem 4: Discrete Random Variable\n",
        "def discrete_distribution():\n",
        "    # Define the distribution\n",
        "    values = [1, 2, 3]\n",
        "    probabilities = [0.25, 0.35, 0.4]\n",
        "\n",
        "    # Generate sample\n",
        "    sample = np.random.choice(values, size=1000, p=probabilities)\n",
        "\n",
        "    # Calculate statistics\n",
        "    mean = np.mean(sample)\n",
        "    variance = np.var(sample)\n",
        "    std_dev = np.std(sample)\n",
        "\n",
        "    print(f\"\\nProblem 4: Discrete Random Variable\")\n",
        "    print(f\"Sample mean: {mean:.4f}\")\n",
        "    print(f\"Sample variance: {variance:.4f}\")\n",
        "    print(f\"Sample standard deviation: {std_dev:.4f}\")\n",
        "\n",
        "    return sample, mean, variance, std_dev\n",
        "\n",
        "sample, mean, variance, std_dev = discrete_distribution()\n"
      ],
      "metadata": {
        "colab": {
          "base_uri": "https://localhost:8080/"
        },
        "id": "MexJvWgIXRND",
        "outputId": "3414c458-c268-4250-bcd1-3395077555e0"
      },
      "execution_count": 5,
      "outputs": [
        {
          "output_type": "stream",
          "name": "stdout",
          "text": [
            "\n",
            "Problem 4: Discrete Random Variable\n",
            "Sample mean: 2.1270\n",
            "Sample variance: 0.6169\n",
            "Sample standard deviation: 0.7854\n"
          ]
        }
      ]
    },
    {
      "cell_type": "markdown",
      "source": [
        "**Problem 4 Explanation: Discrete Random Variable**  \n",
        "Generates 1000 samples from a discrete distribution (X=1:25%, X=2:35%, X=3:40%)\n",
        "\n",
        "Calculates sample mean, variance, and standard deviation\n",
        "\n",
        "Compares with theoretical values (Mean=2.15, Var≈0.7275)"
      ],
      "metadata": {
        "id": "uVK4ZMrsXeEi"
      }
    },
    {
      "cell_type": "code",
      "source": [
        "## Problem 5: Exponential Distribution\n",
        "def exponential_simulation():\n",
        "    # Generate samples\n",
        "    sample = np.random.exponential(scale=5, size=2000)\n",
        "\n",
        "    # Plot histogram\n",
        "    plt.figure(figsize=(10, 6))\n",
        "    plt.hist(sample, bins=50, density=True, alpha=0.7, label='Histogram')\n",
        "\n",
        "    # Plot PDF\n",
        "    x = np.linspace(0, max(sample), 1000)\n",
        "    plt.plot(x, expon.pdf(x, scale=5), 'r-', lw=2, label='PDF')\n",
        "\n",
        "    plt.title('Problem 5: Exponential Distribution (mean=5)')\n",
        "    plt.xlabel('Value')\n",
        "    plt.ylabel('Density')\n",
        "    plt.legend()\n",
        "    plt.show()\n",
        "\n",
        "    return sample\n",
        "\n",
        "exp_sample = exponential_simulation()\n"
      ],
      "metadata": {
        "colab": {
          "base_uri": "https://localhost:8080/",
          "height": 564
        },
        "id": "J7bi995CXefa",
        "outputId": "fae03cc3-206a-4372-e088-bea8119a21f7"
      },
      "execution_count": 6,
      "outputs": [
        {
          "output_type": "display_data",
          "data": {
            "text/plain": [
              "<Figure size 1000x600 with 1 Axes>"
            ],
            "image/png": "[encoded data removed]"
          },
          "metadata": {}
        }
      ]
    },
    {
      "cell_type": "markdown",
      "source": [
        "**Problem 5 Explanation: Exponential Distribution**  \n",
        "Generates 2000 samples from exponential distribution with mean=5\n",
        "\n",
        "Plots histogram of the samples\n",
        "\n",
        "Overlays the theoretical probability density function\n",
        "\n",
        "Shows how empirical distribution matches theoretical"
      ],
      "metadata": {
        "id": "p-r0vFkAXgqj"
      }
    },
    {
      "cell_type": "code",
      "source": [
        "## Problem 6: Central Limit Theorem\n",
        "def central_limit_theorem():\n",
        "    # Generate uniform distribution\n",
        "    uniform_data = np.random.uniform(0, 1, 10000)\n",
        "\n",
        "    # Draw samples and calculate means\n",
        "    sample_means = []\n",
        "    for _ in range(1000):\n",
        "        sample = np.random.choice(uniform_data, size=30)\n",
        "        sample_means.append(np.mean(sample))\n",
        "\n",
        "    # Plot original uniform distribution\n",
        "    plt.figure(figsize=(12, 6))\n",
        "    plt.subplot(1, 2, 1)\n",
        "    plt.hist(uniform_data, bins=30, density=True)\n",
        "    plt.title('Original Uniform Distribution')\n",
        "    plt.xlabel('Value')\n",
        "    plt.ylabel('Density')\n",
        "\n",
        "    # Plot distribution of sample means\n",
        "    plt.subplot(1, 2, 2)\n",
        "    plt.hist(sample_means, bins=30, density=True)\n",
        "    plt.title('Distribution of Sample Means (n=30)')\n",
        "    plt.xlabel('Mean Value')\n",
        "    plt.ylabel('Density')\n",
        "\n",
        "    plt.tight_layout()\n",
        "    plt.show()\n",
        "\n",
        "    return uniform_data, sample_means\n",
        "\n",
        "uniform_data, sample_means = central_limit_theorem()\n"
      ],
      "metadata": {
        "colab": {
          "base_uri": "https://localhost:8080/",
          "height": 607
        },
        "id": "0u8SToWhXhI6",
        "outputId": "727d55eb-e742-48d8-b865-e20801c3b381"
      },
      "execution_count": 7,
      "outputs": [
        {
          "output_type": "display_data",
          "data": {
            "text/plain": [
              "<Figure size 1200x600 with 2 Axes>"
            ],
            "image/png": "[encoded data removed]"
          },
          "metadata": {}
        }
      ]
    },
    {
      "cell_type": "markdown",
      "source": [
        "**Problem 6 Explanation: Central Limit Theorem**  \n",
        "Generates 10,000 uniform random numbers (U(0,1))\n",
        "\n",
        "Takes 1000 samples of size n=30 from this population\n",
        "\n",
        "Calculates means of each sample\n",
        "\n",
        "Shows distribution of sample means is approximately normal (CLT)\n",
        "\n",
        "Compares original uniform distribution with sampling distribution of means"
      ],
      "metadata": {
        "id": "m67sxSYcY93j"
      }
    },
    {
      "cell_type": "code",
      "source": [],
      "metadata": {
        "id": "poafngadZFng"
      },
      "execution_count": null,
      "outputs": []
    }
  ]
}