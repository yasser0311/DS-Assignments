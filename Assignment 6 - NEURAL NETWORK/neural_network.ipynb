{
 "cells": [
  {
   "cell_type": "code",
   "execution_count": 10,
   "id": "11d78e1b",
   "metadata": {},
   "outputs": [],
   "source": [
    "import numpy as np\n",
    "import matplotlib.pyplot as plt\n"
   ]
  },
  {
   "cell_type": "code",
   "execution_count": 11,
   "id": "edb5700a",
   "metadata": {},
   "outputs": [],
   "source": [
    "# Set random seed for reproducibility\n",
    "np.random.seed(42)\n"
   ]
  },
  {
   "cell_type": "markdown",
   "id": "117fc23c",
   "metadata": {},
   "source": [
    "# **1. Define the Dataset - Binary Patterns for A, B, C**"
   ]
  },
  {
   "cell_type": "code",
   "execution_count": 12,
   "id": "48f183e4",
   "metadata": {},
   "outputs": [
    {
     "name": "stdout",
     "output_type": "stream",
     "text": [
      "Training Letters:\n"
     ]
    },
    {
     "data": {
      "image/png": "[encoded data removed]",
      "text/plain": [
       "<Figure size 300x300 with 1 Axes>"
      ]
     },
     "metadata": {},
     "output_type": "display_data"
    },
    {
     "data": {
      "image/png": "[encoded data removed]",
      "text/plain": [
       "<Figure size 300x300 with 1 Axes>"
      ]
     },
     "metadata": {},
     "output_type": "display_data"
    },
    {
     "data": {
      "image/png": "[encoded data removed]",
      "text/plain": [
       "<Figure size 300x300 with 1 Axes>"
      ]
     },
     "metadata": {},
     "output_type": "display_data"
    }
   ],
   "source": [
    "# Letter patterns (5x6 grids flattened to 1D arrays)\n",
    "A = np.array([\n",
    "    0, 1, 1, 1, 0,\n",
    "    1, 0, 0, 0, 1,\n",
    "    1, 1, 1, 1, 1,\n",
    "    1, 0, 0, 0, 1,\n",
    "    1, 0, 0, 0, 1,\n",
    "    1, 0, 0, 0, 1\n",
    "])\n",
    "\n",
    "B = np.array([\n",
    "    1, 1, 1, 1, 0,\n",
    "    1, 0, 0, 0, 1,\n",
    "    1, 1, 1, 1, 0,\n",
    "    1, 0, 0, 0, 1,\n",
    "    1, 0, 0, 0, 1,\n",
    "    1, 1, 1, 1, 0\n",
    "])\n",
    "\n",
    "C = np.array([\n",
    "    0, 1, 1, 1, 0,\n",
    "    1, 0, 0, 0, 1,\n",
    "    1, 0, 0, 0, 0,\n",
    "    1, 0, 0, 0, 0,\n",
    "    1, 0, 0, 0, 1,\n",
    "    0, 1, 1, 1, 0\n",
    "])\n",
    "\n",
    "# Create training data\n",
    "X_train = np.array([A, B, C]).T  # 30x3 matrix (features x samples)\n",
    "y_train = np.array([\n",
    "    [1, 0, 0],  # A\n",
    "    [0, 1, 0],  # B\n",
    "    [0, 0, 1]   # C\n",
    "]).T  # 3x3 matrix (one-hot encoded)\n",
    "\n",
    "# Function to display letters\n",
    "def display_letter(pattern, label=None):\n",
    "    plt.figure(figsize=(3, 3))\n",
    "    plt.imshow(pattern.reshape(6, 5), cmap='binary')\n",
    "    plt.axis('off')\n",
    "    if label:\n",
    "        plt.title(f\"Letter {label}\")\n",
    "    plt.show()\n",
    "\n",
    "# Display sample letters\n",
    "print(\"Training Letters:\")\n",
    "display_letter(A, \"A\")\n",
    "display_letter(B, \"B\")\n",
    "display_letter(C, \"C\")\n"
   ]
  },
  {
   "cell_type": "markdown",
   "id": "3de5a014",
   "metadata": {},
   "source": [
    "# **2. Neural Network Implementation**"
   ]
  },
  {
   "cell_type": "code",
   "execution_count": 13,
   "id": "cd1aa87e",
   "metadata": {},
   "outputs": [],
   "source": [
    "class NeuralNetwork:\n",
    "    def __init__(self, input_size, hidden_size, output_size):\n",
    "        # Initialize weights with small random values\n",
    "        self.W1 = np.random.randn(hidden_size, input_size) * 0.01\n",
    "        self.b1 = np.zeros((hidden_size, 1))\n",
    "        self.W2 = np.random.randn(output_size, hidden_size) * 0.01\n",
    "        self.b2 = np.zeros((output_size, 1))\n",
    "\n",
    "    def sigmoid(self, x):\n",
    "        return 1 / (1 + np.exp(-x))\n",
    "\n",
    "    def sigmoid_derivative(self, x):\n",
    "        return x * (1 - x)\n",
    "\n",
    "    def forward(self, X):\n",
    "        # Hidden layer\n",
    "        self.z1 = np.dot(self.W1, X) + self.b1\n",
    "        self.a1 = self.sigmoid(self.z1)\n",
    "\n",
    "        # Output layer\n",
    "        self.z2 = np.dot(self.W2, self.a1) + self.b2\n",
    "        self.a2 = self.sigmoid(self.z2)\n",
    "\n",
    "        return self.a2\n",
    "\n",
    "    def compute_loss(self, y_true, y_pred):\n",
    "        # Binary cross-entropy loss\n",
    "        m = y_true.shape[1]\n",
    "        loss = -np.sum(y_true * np.log(y_pred) + (1 - y_true) * np.log(1 - y_pred)) / m\n",
    "        return loss\n",
    "\n",
    "    def backward(self, X, y_true, y_pred, learning_rate):\n",
    "        m = y_true.shape[1]\n",
    "\n",
    "        # Output layer gradients\n",
    "        dZ2 = y_pred - y_true\n",
    "        dW2 = np.dot(dZ2, self.a1.T) / m\n",
    "        db2 = np.sum(dZ2, axis=1, keepdims=True) / m\n",
    "\n",
    "        # Hidden layer gradients\n",
    "        dZ1 = np.dot(self.W2.T, dZ2) * self.sigmoid_derivative(self.a1)\n",
    "        dW1 = np.dot(dZ1, X.T) / m\n",
    "        db1 = np.sum(dZ1, axis=1, keepdims=True) / m\n",
    "\n",
    "        # Update weights\n",
    "        self.W2 -= learning_rate * dW2\n",
    "        self.b2 -= learning_rate * db2\n",
    "        self.W1 -= learning_rate * dW1\n",
    "        self.b1 -= learning_rate * db1\n",
    "\n",
    "    def train(self, X, y, epochs, learning_rate):\n",
    "        losses = []\n",
    "        accuracies = []\n",
    "\n",
    "        for epoch in range(epochs):\n",
    "            # Forward pass\n",
    "            y_pred = self.forward(X)\n",
    "\n",
    "            # Compute loss and accuracy\n",
    "            loss = self.compute_loss(y, y_pred)\n",
    "            losses.append(loss)\n",
    "\n",
    "            predictions = np.argmax(y_pred, axis=0)\n",
    "            true_labels = np.argmax(y, axis=0)\n",
    "            accuracy = np.mean(predictions == true_labels)\n",
    "            accuracies.append(accuracy)\n",
    "\n",
    "            # Backward pass\n",
    "            self.backward(X, y, y_pred, learning_rate)\n",
    "\n",
    "            if epoch % 1000 == 0:\n",
    "                print(f\"Epoch {epoch}, Loss: {loss:.4f}, Accuracy: {accuracy:.4f}\")\n",
    "\n",
    "        return losses, accuracies\n",
    "\n",
    "    def predict(self, X):\n",
    "        y_pred = self.forward(X)\n",
    "        return np.argmax(y_pred, axis=0)\n"
   ]
  },
  {
   "cell_type": "markdown",
   "id": "9b84d6e9",
   "metadata": {},
   "source": [
    "# **3. Train the Neural Network**"
   ]
  },
  {
   "cell_type": "code",
   "execution_count": 14,
   "id": "f8566f27",
   "metadata": {},
   "outputs": [
    {
     "name": "stdout",
     "output_type": "stream",
     "text": [
      "Epoch 0, Loss: 2.0864, Accuracy: 0.3333\n",
      "Epoch 1000, Loss: 0.0632, Accuracy: 1.0000\n",
      "Epoch 2000, Loss: 0.0201, Accuracy: 1.0000\n",
      "Epoch 3000, Loss: 0.0117, Accuracy: 1.0000\n",
      "Epoch 4000, Loss: 0.0082, Accuracy: 1.0000\n",
      "Epoch 5000, Loss: 0.0063, Accuracy: 1.0000\n",
      "Epoch 6000, Loss: 0.0051, Accuracy: 1.0000\n",
      "Epoch 7000, Loss: 0.0043, Accuracy: 1.0000\n",
      "Epoch 8000, Loss: 0.0037, Accuracy: 1.0000\n",
      "Epoch 9000, Loss: 0.0033, Accuracy: 1.0000\n"
     ]
    },
    {
     "data": {
      "image/png": "[encoded data removed]",
      "text/plain": [
       "<Figure size 1200x400 with 2 Axes>"
      ]
     },
     "metadata": {},
     "output_type": "display_data"
    }
   ],
   "source": [
    "# Initialize network\n",
    "input_size = 30  # 5x6 pixels\n",
    "hidden_size = 10  # Arbitrary choice\n",
    "output_size = 3   # A, B, C\n",
    "nn = NeuralNetwork(input_size, hidden_size, output_size)\n",
    "\n",
    "# Train network\n",
    "epochs = 10000\n",
    "learning_rate = 0.1\n",
    "losses, accuracies = nn.train(X_train, y_train, epochs, learning_rate)\n",
    "\n",
    "# Plot training progress\n",
    "plt.figure(figsize=(12, 4))\n",
    "plt.subplot(1, 2, 1)\n",
    "plt.plot(losses)\n",
    "plt.title('Training Loss')\n",
    "plt.xlabel('Epoch')\n",
    "plt.ylabel('Loss')\n",
    "\n",
    "plt.subplot(1, 2, 2)\n",
    "plt.plot(accuracies)\n",
    "plt.title('Training Accuracy')\n",
    "plt.xlabel('Epoch')\n",
    "plt.ylabel('Accuracy')\n",
    "plt.show()\n"
   ]
  },
  {
   "cell_type": "markdown",
   "id": "e0b565dd",
   "metadata": {},
   "source": [
    "# **4. Test the Network**"
   ]
  },
  {
   "cell_type": "code",
   "execution_count": 15,
   "id": "4488e05d",
   "metadata": {},
   "outputs": [
    {
     "name": "stdout",
     "output_type": "stream",
     "text": [
      "\n",
      "Test Results:\n"
     ]
    },
    {
     "data": {
      "image/png": "[encoded data removed]",
      "text/plain": [
       "<Figure size 300x300 with 1 Axes>"
      ]
     },
     "metadata": {},
     "output_type": "display_data"
    },
    {
     "data": {
      "image/png": "[encoded data removed]",
      "text/plain": [
       "<Figure size 300x300 with 1 Axes>"
      ]
     },
     "metadata": {},
     "output_type": "display_data"
    },
    {
     "data": {
      "image/png": "[encoded data removed]",
      "text/plain": [
       "<Figure size 300x300 with 1 Axes>"
      ]
     },
     "metadata": {},
     "output_type": "display_data"
    }
   ],
   "source": [
    "# Create test patterns (slightly noisy versions of the letters)\n",
    "def add_noise(pattern, noise_level=0.1):\n",
    "    noise = np.random.choice([0, 1], size=pattern.shape, p=[1-noise_level, noise_level])\n",
    "    return (pattern + noise) % 2  # Ensure binary output\n",
    "\n",
    "\n",
    "test_A = add_noise(A)\n",
    "test_B = add_noise(B)\n",
    "test_C = add_noise(C)\n",
    "\n",
    "X_test = np.array([test_A, test_B, test_C]).T\n",
    "\n",
    "# Make predictions\n",
    "predictions = nn.predict(X_test)\n",
    "letter_map = {0: 'A', 1: 'B', 2: 'C'}\n",
    "\n",
    "# Display test letters and predictions\n",
    "print(\"\\nTest Results:\")\n",
    "for i, pattern in enumerate([test_A, test_B, test_C]):\n",
    "    predicted = letter_map[predictions[i]]\n",
    "    display_letter(pattern, f\"Predicted: {predicted}\")\n"
   ]
  },
  {
   "cell_type": "markdown",
   "id": "977a431f",
   "metadata": {},
   "source": [
    "# **5. Network Analysis**"
   ]
  },
  {
   "cell_type": "code",
   "execution_count": 16,
   "id": "36995d42",
   "metadata": {},
   "outputs": [
    {
     "name": "stdout",
     "output_type": "stream",
     "text": [
      "\n",
      "Final Hidden Layer Weights (W1):\n",
      "(10, 30)\n",
      "\n",
      "Final Output Layer Weights (W2):\n",
      "(3, 10)\n"
     ]
    }
   ],
   "source": [
    "# Print final weights\n",
    "print(\"\\nFinal Hidden Layer Weights (W1):\")\n",
    "print(nn.W1.shape)\n",
    "print(\"\\nFinal Output Layer Weights (W2):\")\n",
    "print(nn.W2.shape)\n"
   ]
  },
  {
   "cell_type": "code",
   "execution_count": 18,
   "id": "486db3c0",
   "metadata": {},
   "outputs": [
    {
     "name": "stdout",
     "output_type": "stream",
     "text": [
      "\n",
      "Random Pattern Prediction: A\n"
     ]
    },
    {
     "data": {
      "image/png": "[encoded data removed]",
      "text/plain": [
       "<Figure size 300x300 with 1 Axes>"
      ]
     },
     "metadata": {},
     "output_type": "display_data"
    }
   ],
   "source": [
    "# Test with completely random pattern\n",
    "random_pattern = np.random.randint(0, 2, size=30)\n",
    "random_pred = nn.predict(random_pattern.reshape(-1, 1))\n",
    "print(f\"\\nRandom Pattern Prediction: {letter_map[random_pred[0]]}\")\n",
    "display_letter(random_pattern, \"Random Pattern\")"
   ]
  }
 ],
 "metadata": {
  "kernelspec": {
   "display_name": "Python 3",
   "language": "python",
   "name": "python3"
  },
  "language_info": {
   "codemirror_mode": {
    "name": "ipython",
    "version": 3
   },
   "file_extension": ".py",
   "mimetype": "text/x-python",
   "name": "python",
   "nbconvert_exporter": "python",
   "pygments_lexer": "ipython3",
   "version": "3.10.11"
  }
 },
 "nbformat": 4,
 "nbformat_minor": 5
}
